{
  "nbformat": 4,
  "nbformat_minor": 0,
  "metadata": {
    "kernelspec": {
      "display_name": "Python 3",
      "language": "python",
      "name": "python3"
    },
    "language_info": {
      "codemirror_mode": {
        "name": "ipython",
        "version": 3
      },
      "file_extension": ".py",
      "mimetype": "text/x-python",
      "name": "python",
      "nbconvert_exporter": "python",
      "pygments_lexer": "ipython3",
      "version": "3.7.6"
    },
    "colab": {
      "name": "0007_teste_hipotese_chiquadrado.ipynb",
      "provenance": [],
      "include_colab_link": true
    }
  },
  "cells": [
    {
      "cell_type": "markdown",
      "metadata": {
        "id": "view-in-github",
        "colab_type": "text"
      },
      "source": [
        "<a href=\"https://colab.research.google.com/github/julianovale/lean_6_sigma_python/blob/master/0007_teste_hipotese_chiquadrado.ipynb\" target=\"_parent\"><img src=\"https://colab.research.google.com/assets/colab-badge.svg\" alt=\"Open In Colab\"/></a>"
      ]
    },
    {
      "cell_type": "code",
      "metadata": {
        "id": "MLuox6BxWt8d",
        "colab_type": "code",
        "colab": {
          "base_uri": "https://localhost:8080/",
          "height": 71
        },
        "outputId": "9009ad22-e526-4d9d-87c3-9e1ad9b85d15"
      },
      "source": [
        "import numpy as np\n",
        "import pandas as pd\n",
        "import seaborn as sns\n",
        "import matplotlib.pyplot as plt\n",
        "sns.set(color_codes =True)\n",
        "%matplotlib inline\n",
        "import statsmodels.api as sm\n",
        "from scipy import stats\n",
        "from scipy.stats import chisquare, chi2_contingency"
      ],
      "execution_count": 1,
      "outputs": [
        {
          "output_type": "stream",
          "text": [
            "/usr/local/lib/python3.6/dist-packages/statsmodels/tools/_testing.py:19: FutureWarning: pandas.util.testing is deprecated. Use the functions in the public API at pandas.testing instead.\n",
            "  import pandas.util.testing as tm\n"
          ],
          "name": "stderr"
        }
      ]
    },
    {
      "cell_type": "markdown",
      "metadata": {
        "id": "aqhii9qRWt8i",
        "colab_type": "text"
      },
      "source": [
        "# Teste Qui-quadrado\n",
        "- Uma equipe processa dados para dois clientes diferentes. As equipes desses clientes revisam os dados e fazem as correções antes da aprovação e enviam relatórios sobre as correções. O gerente quer saber se um cliente reporta mais erros que o outro. Uma vez que a equipe de processamento é a mesma, a quantidade de erros deveria ser a mesma, também."
      ]
    },
    {
      "cell_type": "code",
      "metadata": {
        "id": "BIeL3wJIWt8k",
        "colab_type": "code",
        "colab": {}
      },
      "source": [
        "CS=pd.read_excel(\"https://github.com/julianovale/lean_6_sigma_python/blob/master/ChiS.xlsx?raw=true\")"
      ],
      "execution_count": 2,
      "outputs": []
    },
    {
      "cell_type": "code",
      "metadata": {
        "id": "xc5wmhW7Wt8o",
        "colab_type": "code",
        "colab": {
          "base_uri": "https://localhost:8080/",
          "height": 204
        },
        "outputId": "28906367-90c3-431a-e271-bde1d16a0fde"
      },
      "source": [
        "CS.head()"
      ],
      "execution_count": 3,
      "outputs": [
        {
          "output_type": "execute_result",
          "data": {
            "text/html": [
              "<div>\n",
              "<style scoped>\n",
              "    .dataframe tbody tr th:only-of-type {\n",
              "        vertical-align: middle;\n",
              "    }\n",
              "\n",
              "    .dataframe tbody tr th {\n",
              "        vertical-align: top;\n",
              "    }\n",
              "\n",
              "    .dataframe thead th {\n",
              "        text-align: right;\n",
              "    }\n",
              "</style>\n",
              "<table border=\"1\" class=\"dataframe\">\n",
              "  <thead>\n",
              "    <tr style=\"text-align: right;\">\n",
              "      <th></th>\n",
              "      <th>Client</th>\n",
              "      <th>Result</th>\n",
              "    </tr>\n",
              "  </thead>\n",
              "  <tbody>\n",
              "    <tr>\n",
              "      <th>0</th>\n",
              "      <td>Client A</td>\n",
              "      <td>Corrections</td>\n",
              "    </tr>\n",
              "    <tr>\n",
              "      <th>1</th>\n",
              "      <td>Client A</td>\n",
              "      <td>Corrections</td>\n",
              "    </tr>\n",
              "    <tr>\n",
              "      <th>2</th>\n",
              "      <td>Client A</td>\n",
              "      <td>Corrections</td>\n",
              "    </tr>\n",
              "    <tr>\n",
              "      <th>3</th>\n",
              "      <td>Client A</td>\n",
              "      <td>Corrections</td>\n",
              "    </tr>\n",
              "    <tr>\n",
              "      <th>4</th>\n",
              "      <td>Client A</td>\n",
              "      <td>Corrections</td>\n",
              "    </tr>\n",
              "  </tbody>\n",
              "</table>\n",
              "</div>"
            ],
            "text/plain": [
              "     Client       Result\n",
              "0  Client A  Corrections\n",
              "1  Client A  Corrections\n",
              "2  Client A  Corrections\n",
              "3  Client A  Corrections\n",
              "4  Client A  Corrections"
            ]
          },
          "metadata": {
            "tags": []
          },
          "execution_count": 3
        }
      ]
    },
    {
      "cell_type": "markdown",
      "metadata": {
        "id": "DeYqt4alWt8t",
        "colab_type": "text"
      },
      "source": [
        "## Criando a tabulação cruzada\n",
        "- Como pivot table no excel"
      ]
    },
    {
      "cell_type": "code",
      "metadata": {
        "id": "n7ssc-NZWt8u",
        "colab_type": "code",
        "colab": {}
      },
      "source": [
        "CR = pd.crosstab(CS['Client'], CS['Result'])"
      ],
      "execution_count": 4,
      "outputs": []
    },
    {
      "cell_type": "code",
      "metadata": {
        "id": "5edNIW3wWt81",
        "colab_type": "code",
        "colab": {
          "base_uri": "https://localhost:8080/",
          "height": 142
        },
        "outputId": "fc31f5cf-2f86-4f94-fa3a-b8fa5c626697"
      },
      "source": [
        "CR"
      ],
      "execution_count": 5,
      "outputs": [
        {
          "output_type": "execute_result",
          "data": {
            "text/html": [
              "<div>\n",
              "<style scoped>\n",
              "    .dataframe tbody tr th:only-of-type {\n",
              "        vertical-align: middle;\n",
              "    }\n",
              "\n",
              "    .dataframe tbody tr th {\n",
              "        vertical-align: top;\n",
              "    }\n",
              "\n",
              "    .dataframe thead th {\n",
              "        text-align: right;\n",
              "    }\n",
              "</style>\n",
              "<table border=\"1\" class=\"dataframe\">\n",
              "  <thead>\n",
              "    <tr style=\"text-align: right;\">\n",
              "      <th>Result</th>\n",
              "      <th>Corrections</th>\n",
              "      <th>No Issues</th>\n",
              "    </tr>\n",
              "    <tr>\n",
              "      <th>Client</th>\n",
              "      <th></th>\n",
              "      <th></th>\n",
              "    </tr>\n",
              "  </thead>\n",
              "  <tbody>\n",
              "    <tr>\n",
              "      <th>Client A</th>\n",
              "      <td>12</td>\n",
              "      <td>39</td>\n",
              "    </tr>\n",
              "    <tr>\n",
              "      <th>Client B</th>\n",
              "      <td>76</td>\n",
              "      <td>98</td>\n",
              "    </tr>\n",
              "  </tbody>\n",
              "</table>\n",
              "</div>"
            ],
            "text/plain": [
              "Result    Corrections  No Issues\n",
              "Client                          \n",
              "Client A           12         39\n",
              "Client B           76         98"
            ]
          },
          "metadata": {
            "tags": []
          },
          "execution_count": 5
        }
      ]
    },
    {
      "cell_type": "markdown",
      "metadata": {
        "id": "WG0SjryXWt86",
        "colab_type": "text"
      },
      "source": [
        "## Rodando o teste propriamente dito\n",
        "- O teste Chi-quadrado testa a H0 de indenpendência das frequências observadas em uma tabela de contingência (a tabulação cruzada criada acima)\n",
        "- H0: as frequências são independentes\n",
        "- Ha: as frequências são dependentes (no caso, do cliente)\n",
        "\n",
        "### Regra de decisão\n",
        "- valor-p >= 0.05: **aceito H0 como verdadeira**;\n",
        "- valor-p < 0.05: **rejeito H0 e fico com Ha**.\n",
        "\n",
        "### Saídas do teste:\n",
        "- o valor calculado de Qui-quadrado (5.9054003222); o valor-p (0.0151063), **neste caso rejeito H0**; Graus de liberdade (1); e, a matriz de valores esperados para que H0 fosse verdadeira. \n"
      ]
    },
    {
      "cell_type": "code",
      "metadata": {
        "id": "i_VzVNzsWt87",
        "colab_type": "code",
        "colab": {
          "base_uri": "https://localhost:8080/",
          "height": 102
        },
        "outputId": "8709f61d-fb2d-4651-d8be-2eb1453ec8f6"
      },
      "source": [
        "chi2_contingency(CR)"
      ],
      "execution_count": 6,
      "outputs": [
        {
          "output_type": "execute_result",
          "data": {
            "text/plain": [
              "(5.9040322183091485,\n",
              " 0.015106263154280606,\n",
              " 1,\n",
              " array([[ 19.94666667,  31.05333333],\n",
              "        [ 68.05333333, 105.94666667]]))"
            ]
          },
          "metadata": {
            "tags": []
          },
          "execution_count": 6
        }
      ]
    },
    {
      "cell_type": "code",
      "metadata": {
        "id": "kXXJyZ_qWt8_",
        "colab_type": "code",
        "colab": {}
      },
      "source": [
        ""
      ],
      "execution_count": 6,
      "outputs": []
    }
  ]
}