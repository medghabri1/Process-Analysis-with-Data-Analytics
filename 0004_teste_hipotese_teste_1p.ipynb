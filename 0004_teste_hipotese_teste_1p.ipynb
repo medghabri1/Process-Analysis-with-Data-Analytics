{
  "nbformat": 4,
  "nbformat_minor": 0,
  "metadata": {
    "kernelspec": {
      "display_name": "Python 3",
      "language": "python",
      "name": "python3"
    },
    "language_info": {
      "codemirror_mode": {
        "name": "ipython",
        "version": 3
      },
      "file_extension": ".py",
      "mimetype": "text/x-python",
      "name": "python",
      "nbconvert_exporter": "python",
      "pygments_lexer": "ipython3",
      "version": "3.7.6"
    },
    "colab": {
      "name": "0004_teste_hipotese_teste_1p.ipynb",
      "provenance": [],
      "include_colab_link": true
    }
  },
  "cells": [
    {
      "cell_type": "markdown",
      "metadata": {
        "id": "view-in-github",
        "colab_type": "text"
      },
      "source": [
        "<a href=\"https://colab.research.google.com/github/julianovale/lean_6_sigma_python/blob/master/0004_teste_hipotese_teste_1p.ipynb\" target=\"_parent\"><img src=\"https://colab.research.google.com/assets/colab-badge.svg\" alt=\"Open In Colab\"/></a>"
      ]
    },
    {
      "cell_type": "markdown",
      "metadata": {
        "id": "bdcU6DJKnOpt",
        "colab_type": "text"
      },
      "source": [
        "# 1P Teste (Teste Z)\n",
        "- **Exemplo**: Um auditor interno coletou dados de não-conformidade. Em uma amostragem de 85 transações ele encontrou 5 problemas. A taxa histórica de não-conformidade em auditorias internas era de 5%. A conformidade aumentou?\n",
        "- H0: Não há diferença entre a proporção observada e o valor de referência\n",
        "- Ha: Há uma diferença entre a proporção observada e o valor de referência\n",
        "\n",
        "### Regra de decisão:\n",
        "\n",
        "- Se valor-p >= 0.05 aceito H0;\n",
        "- Se valor-p < 0.05 rejeito H0 e acato Ha."
      ]
    },
    {
      "cell_type": "code",
      "metadata": {
        "id": "k4iIIaZinOpv",
        "colab_type": "code",
        "colab": {}
      },
      "source": [
        "import numpy as np\n",
        "import pandas as pd\n",
        "from statsmodels.stats.proportion import proportions_ztest"
      ],
      "execution_count": null,
      "outputs": []
    },
    {
      "cell_type": "code",
      "metadata": {
        "id": "9cdOXLETnOp4",
        "colab_type": "code",
        "colab": {}
      },
      "source": [
        "issues = 5\n",
        "samples = 85\n",
        "histrade = 0.05"
      ],
      "execution_count": null,
      "outputs": []
    },
    {
      "cell_type": "code",
      "metadata": {
        "id": "Zj8TOgLunOp9",
        "colab_type": "code",
        "colab": {}
      },
      "source": [
        "stat, pval = proportions_ztest(issues, samples, histrade)"
      ],
      "execution_count": null,
      "outputs": []
    },
    {
      "cell_type": "code",
      "metadata": {
        "id": "u9q3ESIWnOqF",
        "colab_type": "code",
        "colab": {},
        "outputId": "0ea2941d-a2f5-4ca0-e06c-24a9fce9e273"
      },
      "source": [
        "stat"
      ],
      "execution_count": null,
      "outputs": [
        {
          "output_type": "execute_result",
          "data": {
            "text/plain": [
              "0.34573291714848314"
            ]
          },
          "metadata": {
            "tags": []
          },
          "execution_count": 23
        }
      ]
    },
    {
      "cell_type": "code",
      "metadata": {
        "id": "g4p25v4gnOqN",
        "colab_type": "code",
        "colab": {},
        "outputId": "9f234b3f-f03e-41c6-d77c-83bab98af340"
      },
      "source": [
        "pval"
      ],
      "execution_count": null,
      "outputs": [
        {
          "output_type": "execute_result",
          "data": {
            "text/plain": [
              "0.7295434437409244"
            ]
          },
          "metadata": {
            "tags": []
          },
          "execution_count": 24
        }
      ]
    },
    {
      "cell_type": "code",
      "metadata": {
        "id": "QyvXroqUnOqU",
        "colab_type": "code",
        "colab": {},
        "outputId": "11251058-9d24-48aa-ca9a-b60701243451"
      },
      "source": [
        "proportion = issues/samples\n",
        "proportion"
      ],
      "execution_count": null,
      "outputs": [
        {
          "output_type": "execute_result",
          "data": {
            "text/plain": [
              "0.058823529411764705"
            ]
          },
          "metadata": {
            "tags": []
          },
          "execution_count": 25
        }
      ]
    },
    {
      "cell_type": "markdown",
      "metadata": {
        "id": "v6MXyqjRnOqd",
        "colab_type": "text"
      },
      "source": [
        "# 2P Test\n",
        "- **Exemplo**: Um auditor interno coletou dados de não-conformidade de duas diferentes unidades da empresa. Para a unidade A, ele amostrou 85 transações e identificou 5 problemas; para a unidade B, ele amostrou 60 transações e encontrou 4 problemas. \n",
        "- **Questiona-se**: Uma unidade desempenha maior conformidade do que a outra?\n",
        "- **H0**: As proporções das duas amostra são iguais;\n",
        "- **Ha**: As proporções das duas amostras são difentes.\n",
        "\n",
        "### Regra de decisção:\n",
        "- Se valop-p >= 0.05 aceito H0;\n",
        "- Se valor-p < 0.05 rejeito H0 e fico com Ha."
      ]
    },
    {
      "cell_type": "code",
      "metadata": {
        "id": "eSekD5AwnOqe",
        "colab_type": "code",
        "colab": {}
      },
      "source": [
        "issues2P = np.array([5,4])\n",
        "transactions = np.array([85,60])"
      ],
      "execution_count": null,
      "outputs": []
    },
    {
      "cell_type": "code",
      "metadata": {
        "id": "UQP4HuwTnOql",
        "colab_type": "code",
        "colab": {}
      },
      "source": [
        "stat2P, pval2P = proportions_ztest(issues2P, transactions, 0)"
      ],
      "execution_count": null,
      "outputs": []
    },
    {
      "cell_type": "code",
      "metadata": {
        "id": "K9U_0xuXnOqs",
        "colab_type": "code",
        "colab": {},
        "outputId": "da504b9a-feb9-4ecd-f269-a01db3bae9a2"
      },
      "source": [
        "pval2P"
      ],
      "execution_count": null,
      "outputs": [
        {
          "output_type": "execute_result",
          "data": {
            "text/plain": [
              "0.8471291050898888"
            ]
          },
          "metadata": {
            "tags": []
          },
          "execution_count": 32
        }
      ]
    }
  ]
}