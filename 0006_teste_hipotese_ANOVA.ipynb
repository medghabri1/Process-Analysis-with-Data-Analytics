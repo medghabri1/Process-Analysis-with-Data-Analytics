{
  "nbformat": 4,
  "nbformat_minor": 0,
  "metadata": {
    "kernelspec": {
      "display_name": "Python 3",
      "language": "python",
      "name": "python3"
    },
    "language_info": {
      "codemirror_mode": {
        "name": "ipython",
        "version": 3
      },
      "file_extension": ".py",
      "mimetype": "text/x-python",
      "name": "python",
      "nbconvert_exporter": "python",
      "pygments_lexer": "ipython3",
      "version": "3.7.6"
    },
    "colab": {
      "name": "0006_teste_hipotese_ANOVA.ipynb",
      "provenance": [],
      "include_colab_link": true
    }
  },
  "cells": [
    {
      "cell_type": "markdown",
      "metadata": {
        "id": "view-in-github",
        "colab_type": "text"
      },
      "source": [
        "<a href=\"https://colab.research.google.com/github/julianovale/lean_6_sigma_python/blob/master/0006_teste_hipotese_ANOVA.ipynb\" target=\"_parent\"><img src=\"https://colab.research.google.com/assets/colab-badge.svg\" alt=\"Open In Colab\"/></a>"
      ]
    },
    {
      "cell_type": "markdown",
      "metadata": {
        "id": "msOUZX8CVxVO",
        "colab_type": "text"
      },
      "source": [
        "# Análise de variância (ANOVA)\n",
        "- Um gerente suspeita que a desempenho de 3 equipes com diferentes turnos (manhã, tarde, noite) variam. Suspeita que o turno impacte o desempenho da equipe. Dados foram coletados."
      ]
    },
    {
      "cell_type": "code",
      "metadata": {
        "id": "PtU7fm6OVxVP",
        "colab_type": "code",
        "colab": {}
      },
      "source": [
        "import numpy as np\n",
        "import pandas as pd\n",
        "import seaborn as sns\n",
        "import matplotlib.pyplot as plt\n",
        "sns.set(color_codes =True)\n",
        "%matplotlib inline\n",
        "import statsmodels.api as sm\n",
        "from scipy import stats\n",
        "from scipy.stats import ttest_1samp, ttest_ind, mannwhitneyu, levene, shapiro, wilcoxon"
      ],
      "execution_count": null,
      "outputs": []
    },
    {
      "cell_type": "code",
      "metadata": {
        "id": "MDPVBggIVxVU",
        "colab_type": "code",
        "colab": {}
      },
      "source": [
        "AN = pd.read_excel(\"https://github.com/julianovale/lean_6_sigma_python/blob/master/anova.xlsx?raw=true\")"
      ],
      "execution_count": null,
      "outputs": []
    },
    {
      "cell_type": "code",
      "metadata": {
        "id": "TMhPNiOYVxVY",
        "colab_type": "code",
        "colab": {},
        "outputId": "9705c007-ee3d-4c8c-a8d1-1f8431f6aadb"
      },
      "source": [
        "AN"
      ],
      "execution_count": null,
      "outputs": [
        {
          "output_type": "execute_result",
          "data": {
            "text/html": [
              "<div>\n",
              "<style scoped>\n",
              "    .dataframe tbody tr th:only-of-type {\n",
              "        vertical-align: middle;\n",
              "    }\n",
              "\n",
              "    .dataframe tbody tr th {\n",
              "        vertical-align: top;\n",
              "    }\n",
              "\n",
              "    .dataframe thead th {\n",
              "        text-align: right;\n",
              "    }\n",
              "</style>\n",
              "<table border=\"1\" class=\"dataframe\">\n",
              "  <thead>\n",
              "    <tr style=\"text-align: right;\">\n",
              "      <th></th>\n",
              "      <th>Day</th>\n",
              "      <th>Noon</th>\n",
              "      <th>Night</th>\n",
              "    </tr>\n",
              "  </thead>\n",
              "  <tbody>\n",
              "    <tr>\n",
              "      <th>0</th>\n",
              "      <td>9.236348</td>\n",
              "      <td>9.090199</td>\n",
              "      <td>8.901892</td>\n",
              "    </tr>\n",
              "    <tr>\n",
              "      <th>1</th>\n",
              "      <td>9.252986</td>\n",
              "      <td>8.950993</td>\n",
              "      <td>9.100092</td>\n",
              "    </tr>\n",
              "    <tr>\n",
              "      <th>2</th>\n",
              "      <td>9.248021</td>\n",
              "      <td>8.895417</td>\n",
              "      <td>8.841298</td>\n",
              "    </tr>\n",
              "    <tr>\n",
              "      <th>3</th>\n",
              "      <td>9.406213</td>\n",
              "      <td>8.844150</td>\n",
              "      <td>8.991732</td>\n",
              "    </tr>\n",
              "    <tr>\n",
              "      <th>4</th>\n",
              "      <td>9.252373</td>\n",
              "      <td>9.026661</td>\n",
              "      <td>8.802963</td>\n",
              "    </tr>\n",
              "    <tr>\n",
              "      <th>5</th>\n",
              "      <td>9.475237</td>\n",
              "      <td>8.944478</td>\n",
              "      <td>8.917330</td>\n",
              "    </tr>\n",
              "    <tr>\n",
              "      <th>6</th>\n",
              "      <td>9.309529</td>\n",
              "      <td>9.104782</td>\n",
              "      <td>8.828534</td>\n",
              "    </tr>\n",
              "    <tr>\n",
              "      <th>7</th>\n",
              "      <td>9.338340</td>\n",
              "      <td>8.947740</td>\n",
              "      <td>8.811452</td>\n",
              "    </tr>\n",
              "    <tr>\n",
              "      <th>8</th>\n",
              "      <td>9.364601</td>\n",
              "      <td>8.934479</td>\n",
              "      <td>8.987952</td>\n",
              "    </tr>\n",
              "    <tr>\n",
              "      <th>9</th>\n",
              "      <td>9.304998</td>\n",
              "      <td>8.992930</td>\n",
              "      <td>8.961595</td>\n",
              "    </tr>\n",
              "    <tr>\n",
              "      <th>10</th>\n",
              "      <td>9.236231</td>\n",
              "      <td>9.106185</td>\n",
              "      <td>8.775197</td>\n",
              "    </tr>\n",
              "    <tr>\n",
              "      <th>11</th>\n",
              "      <td>9.140339</td>\n",
              "      <td>8.907438</td>\n",
              "      <td>8.798524</td>\n",
              "    </tr>\n",
              "  </tbody>\n",
              "</table>\n",
              "</div>"
            ],
            "text/plain": [
              "         Day      Noon     Night\n",
              "0   9.236348  9.090199  8.901892\n",
              "1   9.252986  8.950993  9.100092\n",
              "2   9.248021  8.895417  8.841298\n",
              "3   9.406213  8.844150  8.991732\n",
              "4   9.252373  9.026661  8.802963\n",
              "5   9.475237  8.944478  8.917330\n",
              "6   9.309529  9.104782  8.828534\n",
              "7   9.338340  8.947740  8.811452\n",
              "8   9.364601  8.934479  8.987952\n",
              "9   9.304998  8.992930  8.961595\n",
              "10  9.236231  9.106185  8.775197\n",
              "11  9.140339  8.907438  8.798524"
            ]
          },
          "metadata": {
            "tags": []
          },
          "execution_count": 4
        }
      ]
    },
    {
      "cell_type": "markdown",
      "metadata": {
        "id": "djngDrWJVxVe",
        "colab_type": "text"
      },
      "source": [
        "## Preparando o DataFrame"
      ]
    },
    {
      "cell_type": "code",
      "metadata": {
        "id": "wdmOxspfVxVe",
        "colab_type": "code",
        "colab": {},
        "outputId": "4b29a241-cf33-41d4-dfe1-9953f7512da9"
      },
      "source": [
        "ANS=AN.stack().rename_axis(('Series','Timing')).reset_index(name=\"Val\")\n",
        "ANS"
      ],
      "execution_count": null,
      "outputs": [
        {
          "output_type": "execute_result",
          "data": {
            "text/html": [
              "<div>\n",
              "<style scoped>\n",
              "    .dataframe tbody tr th:only-of-type {\n",
              "        vertical-align: middle;\n",
              "    }\n",
              "\n",
              "    .dataframe tbody tr th {\n",
              "        vertical-align: top;\n",
              "    }\n",
              "\n",
              "    .dataframe thead th {\n",
              "        text-align: right;\n",
              "    }\n",
              "</style>\n",
              "<table border=\"1\" class=\"dataframe\">\n",
              "  <thead>\n",
              "    <tr style=\"text-align: right;\">\n",
              "      <th></th>\n",
              "      <th>Series</th>\n",
              "      <th>Timing</th>\n",
              "      <th>Val</th>\n",
              "    </tr>\n",
              "  </thead>\n",
              "  <tbody>\n",
              "    <tr>\n",
              "      <th>0</th>\n",
              "      <td>0</td>\n",
              "      <td>Day</td>\n",
              "      <td>9.236348</td>\n",
              "    </tr>\n",
              "    <tr>\n",
              "      <th>1</th>\n",
              "      <td>0</td>\n",
              "      <td>Noon</td>\n",
              "      <td>9.090199</td>\n",
              "    </tr>\n",
              "    <tr>\n",
              "      <th>2</th>\n",
              "      <td>0</td>\n",
              "      <td>Night</td>\n",
              "      <td>8.901892</td>\n",
              "    </tr>\n",
              "    <tr>\n",
              "      <th>3</th>\n",
              "      <td>1</td>\n",
              "      <td>Day</td>\n",
              "      <td>9.252986</td>\n",
              "    </tr>\n",
              "    <tr>\n",
              "      <th>4</th>\n",
              "      <td>1</td>\n",
              "      <td>Noon</td>\n",
              "      <td>8.950993</td>\n",
              "    </tr>\n",
              "    <tr>\n",
              "      <th>5</th>\n",
              "      <td>1</td>\n",
              "      <td>Night</td>\n",
              "      <td>9.100092</td>\n",
              "    </tr>\n",
              "    <tr>\n",
              "      <th>6</th>\n",
              "      <td>2</td>\n",
              "      <td>Day</td>\n",
              "      <td>9.248021</td>\n",
              "    </tr>\n",
              "    <tr>\n",
              "      <th>7</th>\n",
              "      <td>2</td>\n",
              "      <td>Noon</td>\n",
              "      <td>8.895417</td>\n",
              "    </tr>\n",
              "    <tr>\n",
              "      <th>8</th>\n",
              "      <td>2</td>\n",
              "      <td>Night</td>\n",
              "      <td>8.841298</td>\n",
              "    </tr>\n",
              "    <tr>\n",
              "      <th>9</th>\n",
              "      <td>3</td>\n",
              "      <td>Day</td>\n",
              "      <td>9.406213</td>\n",
              "    </tr>\n",
              "    <tr>\n",
              "      <th>10</th>\n",
              "      <td>3</td>\n",
              "      <td>Noon</td>\n",
              "      <td>8.844150</td>\n",
              "    </tr>\n",
              "    <tr>\n",
              "      <th>11</th>\n",
              "      <td>3</td>\n",
              "      <td>Night</td>\n",
              "      <td>8.991732</td>\n",
              "    </tr>\n",
              "    <tr>\n",
              "      <th>12</th>\n",
              "      <td>4</td>\n",
              "      <td>Day</td>\n",
              "      <td>9.252373</td>\n",
              "    </tr>\n",
              "    <tr>\n",
              "      <th>13</th>\n",
              "      <td>4</td>\n",
              "      <td>Noon</td>\n",
              "      <td>9.026661</td>\n",
              "    </tr>\n",
              "    <tr>\n",
              "      <th>14</th>\n",
              "      <td>4</td>\n",
              "      <td>Night</td>\n",
              "      <td>8.802963</td>\n",
              "    </tr>\n",
              "    <tr>\n",
              "      <th>15</th>\n",
              "      <td>5</td>\n",
              "      <td>Day</td>\n",
              "      <td>9.475237</td>\n",
              "    </tr>\n",
              "    <tr>\n",
              "      <th>16</th>\n",
              "      <td>5</td>\n",
              "      <td>Noon</td>\n",
              "      <td>8.944478</td>\n",
              "    </tr>\n",
              "    <tr>\n",
              "      <th>17</th>\n",
              "      <td>5</td>\n",
              "      <td>Night</td>\n",
              "      <td>8.917330</td>\n",
              "    </tr>\n",
              "    <tr>\n",
              "      <th>18</th>\n",
              "      <td>6</td>\n",
              "      <td>Day</td>\n",
              "      <td>9.309529</td>\n",
              "    </tr>\n",
              "    <tr>\n",
              "      <th>19</th>\n",
              "      <td>6</td>\n",
              "      <td>Noon</td>\n",
              "      <td>9.104782</td>\n",
              "    </tr>\n",
              "    <tr>\n",
              "      <th>20</th>\n",
              "      <td>6</td>\n",
              "      <td>Night</td>\n",
              "      <td>8.828534</td>\n",
              "    </tr>\n",
              "    <tr>\n",
              "      <th>21</th>\n",
              "      <td>7</td>\n",
              "      <td>Day</td>\n",
              "      <td>9.338340</td>\n",
              "    </tr>\n",
              "    <tr>\n",
              "      <th>22</th>\n",
              "      <td>7</td>\n",
              "      <td>Noon</td>\n",
              "      <td>8.947740</td>\n",
              "    </tr>\n",
              "    <tr>\n",
              "      <th>23</th>\n",
              "      <td>7</td>\n",
              "      <td>Night</td>\n",
              "      <td>8.811452</td>\n",
              "    </tr>\n",
              "    <tr>\n",
              "      <th>24</th>\n",
              "      <td>8</td>\n",
              "      <td>Day</td>\n",
              "      <td>9.364601</td>\n",
              "    </tr>\n",
              "    <tr>\n",
              "      <th>25</th>\n",
              "      <td>8</td>\n",
              "      <td>Noon</td>\n",
              "      <td>8.934479</td>\n",
              "    </tr>\n",
              "    <tr>\n",
              "      <th>26</th>\n",
              "      <td>8</td>\n",
              "      <td>Night</td>\n",
              "      <td>8.987952</td>\n",
              "    </tr>\n",
              "    <tr>\n",
              "      <th>27</th>\n",
              "      <td>9</td>\n",
              "      <td>Day</td>\n",
              "      <td>9.304998</td>\n",
              "    </tr>\n",
              "    <tr>\n",
              "      <th>28</th>\n",
              "      <td>9</td>\n",
              "      <td>Noon</td>\n",
              "      <td>8.992930</td>\n",
              "    </tr>\n",
              "    <tr>\n",
              "      <th>29</th>\n",
              "      <td>9</td>\n",
              "      <td>Night</td>\n",
              "      <td>8.961595</td>\n",
              "    </tr>\n",
              "    <tr>\n",
              "      <th>30</th>\n",
              "      <td>10</td>\n",
              "      <td>Day</td>\n",
              "      <td>9.236231</td>\n",
              "    </tr>\n",
              "    <tr>\n",
              "      <th>31</th>\n",
              "      <td>10</td>\n",
              "      <td>Noon</td>\n",
              "      <td>9.106185</td>\n",
              "    </tr>\n",
              "    <tr>\n",
              "      <th>32</th>\n",
              "      <td>10</td>\n",
              "      <td>Night</td>\n",
              "      <td>8.775197</td>\n",
              "    </tr>\n",
              "    <tr>\n",
              "      <th>33</th>\n",
              "      <td>11</td>\n",
              "      <td>Day</td>\n",
              "      <td>9.140339</td>\n",
              "    </tr>\n",
              "    <tr>\n",
              "      <th>34</th>\n",
              "      <td>11</td>\n",
              "      <td>Noon</td>\n",
              "      <td>8.907438</td>\n",
              "    </tr>\n",
              "    <tr>\n",
              "      <th>35</th>\n",
              "      <td>11</td>\n",
              "      <td>Night</td>\n",
              "      <td>8.798524</td>\n",
              "    </tr>\n",
              "  </tbody>\n",
              "</table>\n",
              "</div>"
            ],
            "text/plain": [
              "    Series Timing       Val\n",
              "0        0    Day  9.236348\n",
              "1        0   Noon  9.090199\n",
              "2        0  Night  8.901892\n",
              "3        1    Day  9.252986\n",
              "4        1   Noon  8.950993\n",
              "5        1  Night  9.100092\n",
              "6        2    Day  9.248021\n",
              "7        2   Noon  8.895417\n",
              "8        2  Night  8.841298\n",
              "9        3    Day  9.406213\n",
              "10       3   Noon  8.844150\n",
              "11       3  Night  8.991732\n",
              "12       4    Day  9.252373\n",
              "13       4   Noon  9.026661\n",
              "14       4  Night  8.802963\n",
              "15       5    Day  9.475237\n",
              "16       5   Noon  8.944478\n",
              "17       5  Night  8.917330\n",
              "18       6    Day  9.309529\n",
              "19       6   Noon  9.104782\n",
              "20       6  Night  8.828534\n",
              "21       7    Day  9.338340\n",
              "22       7   Noon  8.947740\n",
              "23       7  Night  8.811452\n",
              "24       8    Day  9.364601\n",
              "25       8   Noon  8.934479\n",
              "26       8  Night  8.987952\n",
              "27       9    Day  9.304998\n",
              "28       9   Noon  8.992930\n",
              "29       9  Night  8.961595\n",
              "30      10    Day  9.236231\n",
              "31      10   Noon  9.106185\n",
              "32      10  Night  8.775197\n",
              "33      11    Day  9.140339\n",
              "34      11   Noon  8.907438\n",
              "35      11  Night  8.798524"
            ]
          },
          "metadata": {
            "tags": []
          },
          "execution_count": 6
        }
      ]
    },
    {
      "cell_type": "code",
      "metadata": {
        "id": "4p9uzPAjVxVk",
        "colab_type": "code",
        "colab": {},
        "outputId": "23272260-aef3-43e0-b132-172959595ce9"
      },
      "source": [
        "sns.boxplot(x=ANS.Timing, y=ANS.Val, width = 0.3)"
      ],
      "execution_count": null,
      "outputs": [
        {
          "output_type": "execute_result",
          "data": {
            "text/plain": [
              "<matplotlib.axes._subplots.AxesSubplot at 0x20b39cd0688>"
            ]
          },
          "metadata": {
            "tags": []
          },
          "execution_count": 10
        },
        {
          "output_type": "display_data",
          "data": {
            "image/png": "[encoded data removed]",
            "text/plain": [
              "<Figure size 432x288 with 1 Axes>"
            ]
          },
          "metadata": {
            "tags": []
          }
        }
      ]
    },
    {
      "cell_type": "code",
      "metadata": {
        "id": "iDbhQAg7VxVn",
        "colab_type": "code",
        "colab": {},
        "outputId": "8071a98d-5609-459e-b88a-14f3cb1037b0"
      },
      "source": [
        "stats.normaltest(ANS.Val).pvalue # se valor-p > 0.05 aceito H0: a amostra é normal"
      ],
      "execution_count": null,
      "outputs": [
        {
          "output_type": "execute_result",
          "data": {
            "text/plain": [
              "0.09589191834455094"
            ]
          },
          "metadata": {
            "tags": []
          },
          "execution_count": 12
        }
      ]
    },
    {
      "cell_type": "markdown",
      "metadata": {
        "id": "VbjBDF9nVxVt",
        "colab_type": "text"
      },
      "source": [
        "### Importações necessárias"
      ]
    },
    {
      "cell_type": "code",
      "metadata": {
        "id": "3MEIqnUYVxVu",
        "colab_type": "code",
        "colab": {}
      },
      "source": [
        "from statsmodels.formula.api import ols\n",
        "from statsmodels.stats.anova import anova_lm"
      ],
      "execution_count": null,
      "outputs": []
    },
    {
      "cell_type": "code",
      "metadata": {
        "id": "G-YTpVODVxV0",
        "colab_type": "code",
        "colab": {},
        "outputId": "b624ab01-6fc7-48f4-c7bc-da4a5b5659bb"
      },
      "source": [
        "y=ANS.Val\n",
        "x=ANS.Timing\n",
        "formula='y ~ x'\n",
        "model = ols(formula, ANS).fit()\n",
        "aov_table = anova_lm(model)\n",
        "aov_table"
      ],
      "execution_count": null,
      "outputs": [
        {
          "output_type": "execute_result",
          "data": {
            "text/html": [
              "<div>\n",
              "<style scoped>\n",
              "    .dataframe tbody tr th:only-of-type {\n",
              "        vertical-align: middle;\n",
              "    }\n",
              "\n",
              "    .dataframe tbody tr th {\n",
              "        vertical-align: top;\n",
              "    }\n",
              "\n",
              "    .dataframe thead th {\n",
              "        text-align: right;\n",
              "    }\n",
              "</style>\n",
              "<table border=\"1\" class=\"dataframe\">\n",
              "  <thead>\n",
              "    <tr style=\"text-align: right;\">\n",
              "      <th></th>\n",
              "      <th>df</th>\n",
              "      <th>sum_sq</th>\n",
              "      <th>mean_sq</th>\n",
              "      <th>F</th>\n",
              "      <th>PR(&gt;F)</th>\n",
              "    </tr>\n",
              "  </thead>\n",
              "  <tbody>\n",
              "    <tr>\n",
              "      <th>x</th>\n",
              "      <td>2.0</td>\n",
              "      <td>1.087088</td>\n",
              "      <td>0.543544</td>\n",
              "      <td>63.627012</td>\n",
              "      <td>4.743867e-12</td>\n",
              "    </tr>\n",
              "    <tr>\n",
              "      <th>Residual</th>\n",
              "      <td>33.0</td>\n",
              "      <td>0.281908</td>\n",
              "      <td>0.008543</td>\n",
              "      <td>NaN</td>\n",
              "      <td>NaN</td>\n",
              "    </tr>\n",
              "  </tbody>\n",
              "</table>\n",
              "</div>"
            ],
            "text/plain": [
              "            df    sum_sq   mean_sq          F        PR(>F)\n",
              "x          2.0  1.087088  0.543544  63.627012  4.743867e-12\n",
              "Residual  33.0  0.281908  0.008543        NaN           NaN"
            ]
          },
          "metadata": {
            "tags": []
          },
          "execution_count": 16
        }
      ]
    },
    {
      "cell_type": "markdown",
      "metadata": {
        "id": "x0f5d2OFVxV6",
        "colab_type": "text"
      },
      "source": [
        "### Como analisar?\n",
        "- O \"PR(>F)\" da tabela acima é o valor-p. H0: as amostras apresentam a mesma variância; Ha: pelo menos uma das amostras apresenta variância diferente das demais. Alfa = 0.05.\n",
        "- No caso, como o valor-p é muito menor que 0.05 (4,74 * 10^-12), H0 não deve ser aceita, então pelo menos uma das amostras difere em variância."
      ]
    }
  ]
}