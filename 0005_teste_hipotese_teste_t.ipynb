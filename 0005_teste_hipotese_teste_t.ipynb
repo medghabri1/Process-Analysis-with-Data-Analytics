{
  "nbformat": 4,
  "nbformat_minor": 0,
  "metadata": {
    "kernelspec": {
      "display_name": "Python 3",
      "language": "python",
      "name": "python3"
    },
    "language_info": {
      "codemirror_mode": {
        "name": "ipython",
        "version": 3
      },
      "file_extension": ".py",
      "mimetype": "text/x-python",
      "name": "python",
      "nbconvert_exporter": "python",
      "pygments_lexer": "ipython3",
      "version": "3.7.6"
    },
    "colab": {
      "name": "0005_teste_hipotese_teste_t.ipynb",
      "provenance": [],
      "include_colab_link": true
    }
  },
  "cells": [
    {
      "cell_type": "markdown",
      "metadata": {
        "id": "view-in-github",
        "colab_type": "text"
      },
      "source": [
        "<a href=\"https://colab.research.google.com/github/julianovale/lean_6_sigma_python/blob/master/0005_teste_hipotese_teste_t.ipynb\" target=\"_parent\"><img src=\"https://colab.research.google.com/assets/colab-badge.svg\" alt=\"Open In Colab\"/></a>"
      ]
    },
    {
      "cell_type": "markdown",
      "metadata": {
        "id": "tG43FXIbTAM7",
        "colab_type": "text"
      },
      "source": [
        "# Test t para uma amostra\n",
        "## cenário\n",
        "- O nível de serviço de um processo nas últimas 14 semanas foi medido. A média de performance foi de 94,5%, entretanto o \"Acordo de Nível de Serviço\", ANS, (Service Level Agreement) com o cliente determina performance de 95%. \n",
        "- O Teste T para uma amostra será usado para determinar se a média da amostra difere de maneira significativa de um valor especificado (padrão), no o ANS do exemplo, 95%.\n",
        "- **Importante: a amostra deve ser proveniente de uma distribuição normal**"
      ]
    },
    {
      "cell_type": "code",
      "metadata": {
        "id": "kv90CFoBTAM-",
        "colab_type": "code",
        "colab": {
          "base_uri": "https://localhost:8080/",
          "height": 71
        },
        "outputId": "b6029e28-16c4-4bc1-a336-21218360bd80"
      },
      "source": [
        "import numpy as np\n",
        "import pandas as pd\n",
        "import seaborn as sns\n",
        "import matplotlib.pyplot as plt\n",
        "sns.set(color_codes =True)\n",
        "%matplotlib inline\n",
        "import statsmodels.api as sm\n",
        "from scipy import stats\n",
        "from scipy.stats import ttest_1samp, ttest_ind, mannwhitneyu, levene, shapiro, wilcoxon"
      ],
      "execution_count": 1,
      "outputs": [
        {
          "output_type": "stream",
          "text": [
            "/usr/local/lib/python3.6/dist-packages/statsmodels/tools/_testing.py:19: FutureWarning: pandas.util.testing is deprecated. Use the functions in the public API at pandas.testing instead.\n",
            "  import pandas.util.testing as tm\n"
          ],
          "name": "stderr"
        }
      ]
    },
    {
      "cell_type": "code",
      "metadata": {
        "id": "JyZz5OHETANL",
        "colab_type": "code",
        "colab": {}
      },
      "source": [
        "SLADT = pd.read_excel(\"https://github.com/julianovale/lean_6_sigma_python/blob/master/SLA.xlsx?raw=true\")"
      ],
      "execution_count": 2,
      "outputs": []
    },
    {
      "cell_type": "code",
      "metadata": {
        "id": "_IdQUG-7TANU",
        "colab_type": "code",
        "colab": {
          "base_uri": "https://localhost:8080/",
          "height": 483
        },
        "outputId": "fb43e97c-d484-49be-ad13-2e3dfa2b7f9d"
      },
      "source": [
        "SLADT"
      ],
      "execution_count": 3,
      "outputs": [
        {
          "output_type": "execute_result",
          "data": {
            "text/html": [
              "<div>\n",
              "<style scoped>\n",
              "    .dataframe tbody tr th:only-of-type {\n",
              "        vertical-align: middle;\n",
              "    }\n",
              "\n",
              "    .dataframe tbody tr th {\n",
              "        vertical-align: top;\n",
              "    }\n",
              "\n",
              "    .dataframe thead th {\n",
              "        text-align: right;\n",
              "    }\n",
              "</style>\n",
              "<table border=\"1\" class=\"dataframe\">\n",
              "  <thead>\n",
              "    <tr style=\"text-align: right;\">\n",
              "      <th></th>\n",
              "      <th>SLA</th>\n",
              "    </tr>\n",
              "  </thead>\n",
              "  <tbody>\n",
              "    <tr>\n",
              "      <th>0</th>\n",
              "      <td>95.004430</td>\n",
              "    </tr>\n",
              "    <tr>\n",
              "      <th>1</th>\n",
              "      <td>93.565637</td>\n",
              "    </tr>\n",
              "    <tr>\n",
              "      <th>2</th>\n",
              "      <td>94.737492</td>\n",
              "    </tr>\n",
              "    <tr>\n",
              "      <th>3</th>\n",
              "      <td>95.789231</td>\n",
              "    </tr>\n",
              "    <tr>\n",
              "      <th>4</th>\n",
              "      <td>95.530447</td>\n",
              "    </tr>\n",
              "    <tr>\n",
              "      <th>5</th>\n",
              "      <td>93.233199</td>\n",
              "    </tr>\n",
              "    <tr>\n",
              "      <th>6</th>\n",
              "      <td>94.903952</td>\n",
              "    </tr>\n",
              "    <tr>\n",
              "      <th>7</th>\n",
              "      <td>94.202423</td>\n",
              "    </tr>\n",
              "    <tr>\n",
              "      <th>8</th>\n",
              "      <td>95.675634</td>\n",
              "    </tr>\n",
              "    <tr>\n",
              "      <th>9</th>\n",
              "      <td>92.749504</td>\n",
              "    </tr>\n",
              "    <tr>\n",
              "      <th>10</th>\n",
              "      <td>93.692614</td>\n",
              "    </tr>\n",
              "    <tr>\n",
              "      <th>11</th>\n",
              "      <td>96.329568</td>\n",
              "    </tr>\n",
              "    <tr>\n",
              "      <th>12</th>\n",
              "      <td>95.112963</td>\n",
              "    </tr>\n",
              "    <tr>\n",
              "      <th>13</th>\n",
              "      <td>94.333942</td>\n",
              "    </tr>\n",
              "  </tbody>\n",
              "</table>\n",
              "</div>"
            ],
            "text/plain": [
              "          SLA\n",
              "0   95.004430\n",
              "1   93.565637\n",
              "2   94.737492\n",
              "3   95.789231\n",
              "4   95.530447\n",
              "5   93.233199\n",
              "6   94.903952\n",
              "7   94.202423\n",
              "8   95.675634\n",
              "9   92.749504\n",
              "10  93.692614\n",
              "11  96.329568\n",
              "12  95.112963\n",
              "13  94.333942"
            ]
          },
          "metadata": {
            "tags": []
          },
          "execution_count": 3
        }
      ]
    },
    {
      "cell_type": "code",
      "metadata": {
        "id": "QffmHualTANY",
        "colab_type": "code",
        "colab": {
          "base_uri": "https://localhost:8080/",
          "height": 34
        },
        "outputId": "2e8169ca-0c94-4239-bf8b-d4059ffb0fbc"
      },
      "source": [
        "stats.ttest_1samp(SLADT.SLA, 95)"
      ],
      "execution_count": 4,
      "outputs": [
        {
          "output_type": "execute_result",
          "data": {
            "text/plain": [
              "Ttest_1sampResult(statistic=-1.3065269974711893, pvalue=0.21401598351235218)"
            ]
          },
          "metadata": {
            "tags": []
          },
          "execution_count": 4
        }
      ]
    },
    {
      "cell_type": "markdown",
      "metadata": {
        "id": "pUzDRErvTANf",
        "colab_type": "text"
      },
      "source": [
        "- Se p-valor <  alpha: Rejeitar H0\n",
        "- Se p-valor >= alpha: Aceitar H0 \n",
        "\n",
        "- H0: A média encontrada é igual a 95%\n",
        "- Ha: A média encontrada é de diferente de 95%.\n",
        "\n",
        "- Nível de significância: alpha = 0.05 (5%)\n",
        "\n",
        "- **Como p-valor >= alpha, então, a média é igual a 95%**\n",
        "\n"
      ]
    },
    {
      "cell_type": "markdown",
      "metadata": {
        "id": "iwGjemZQTANh",
        "colab_type": "text"
      },
      "source": [
        "## Teste de normalidade\n",
        "É necessário testar se a amostra vem de uma Distribuição Normal. No Teste T necessariamente a amostra deve vir de uma distribuição normal.\n",
        "\n",
        "- Test whether a sample differs from a normal distribution.\n",
        "- This function tests the null hypothesis that a sample comes\n",
        "from a normal distribution.  It is based on D'Agostino and\n",
        "Pearson's [1]_, [2]_ test that combines skew and kurtosis to\n",
        "produce an omnibus test of normality.\n",
        "\n",
        "&nbsp;\n",
        "- **H0 = a amostra vem de uma distribuição normal**\n",
        "- Ha = a amostra não vem de uma distruição normal\n",
        "&nbsp;\n",
        "\n",
        "- Se p-valor < alpha: Rejeitar H0\n",
        "- Se p-valor >= alpha: Aceitar H0\n",
        "- Neste caso aceita H0, ou seja, **a amostra vem de uma distribuição normal.**"
      ]
    },
    {
      "cell_type": "code",
      "metadata": {
        "id": "ieZvcNI6TANi",
        "colab_type": "code",
        "colab": {
          "base_uri": "https://localhost:8080/",
          "height": 68
        },
        "outputId": "3b031961-0a91-47c8-ba45-12da9f229350"
      },
      "source": [
        "stats.normaltest(SLADT.SLA).pvalue"
      ],
      "execution_count": 5,
      "outputs": [
        {
          "output_type": "stream",
          "text": [
            "/usr/local/lib/python3.6/dist-packages/scipy/stats/stats.py:1535: UserWarning: kurtosistest only valid for n>=20 ... continuing anyway, n=14\n",
            "  \"anyway, n=%i\" % int(n))\n"
          ],
          "name": "stderr"
        },
        {
          "output_type": "execute_result",
          "data": {
            "text/plain": [
              "0.7384860279627459"
            ]
          },
          "metadata": {
            "tags": []
          },
          "execution_count": 5
        }
      ]
    },
    {
      "cell_type": "markdown",
      "metadata": {
        "id": "OHZ-ud_TTANr",
        "colab_type": "text"
      },
      "source": [
        "# Teste T para duas amostras\n"
      ]
    },
    {
      "cell_type": "code",
      "metadata": {
        "id": "qEJGKBy6TANt",
        "colab_type": "code",
        "colab": {}
      },
      "source": [
        "TDT = pd.read_excel(\"https://github.com/julianovale/lean_6_sigma_python/blob/master/2andpairedt.xlsx?raw=true\")"
      ],
      "execution_count": 6,
      "outputs": []
    },
    {
      "cell_type": "code",
      "metadata": {
        "id": "L4HeH0g-TAN2",
        "colab_type": "code",
        "colab": {
          "base_uri": "https://localhost:8080/",
          "height": 514
        },
        "outputId": "f4a34eff-9407-415c-fabf-e5f154b2a35d"
      },
      "source": [
        "TDT"
      ],
      "execution_count": 7,
      "outputs": [
        {
          "output_type": "execute_result",
          "data": {
            "text/html": [
              "<div>\n",
              "<style scoped>\n",
              "    .dataframe tbody tr th:only-of-type {\n",
              "        vertical-align: middle;\n",
              "    }\n",
              "\n",
              "    .dataframe tbody tr th {\n",
              "        vertical-align: top;\n",
              "    }\n",
              "\n",
              "    .dataframe thead th {\n",
              "        text-align: right;\n",
              "    }\n",
              "</style>\n",
              "<table border=\"1\" class=\"dataframe\">\n",
              "  <thead>\n",
              "    <tr style=\"text-align: right;\">\n",
              "      <th></th>\n",
              "      <th>Pre</th>\n",
              "      <th>Post</th>\n",
              "      <th>Associate</th>\n",
              "      <th>Beforecoaching</th>\n",
              "      <th>Aftercoaching</th>\n",
              "    </tr>\n",
              "  </thead>\n",
              "  <tbody>\n",
              "    <tr>\n",
              "      <th>0</th>\n",
              "      <td>30.105925</td>\n",
              "      <td>30.007614</td>\n",
              "      <td>A</td>\n",
              "      <td>3.999752</td>\n",
              "      <td>3.908891</td>\n",
              "    </tr>\n",
              "    <tr>\n",
              "      <th>1</th>\n",
              "      <td>30.107895</td>\n",
              "      <td>29.991830</td>\n",
              "      <td>B</td>\n",
              "      <td>4.006046</td>\n",
              "      <td>3.894249</td>\n",
              "    </tr>\n",
              "    <tr>\n",
              "      <th>2</th>\n",
              "      <td>30.119569</td>\n",
              "      <td>29.994598</td>\n",
              "      <td>C</td>\n",
              "      <td>3.999894</td>\n",
              "      <td>3.892256</td>\n",
              "    </tr>\n",
              "    <tr>\n",
              "      <th>3</th>\n",
              "      <td>30.096333</td>\n",
              "      <td>30.023697</td>\n",
              "      <td>D</td>\n",
              "      <td>3.974033</td>\n",
              "      <td>3.893144</td>\n",
              "    </tr>\n",
              "    <tr>\n",
              "      <th>4</th>\n",
              "      <td>30.092991</td>\n",
              "      <td>30.003774</td>\n",
              "      <td>E</td>\n",
              "      <td>4.005389</td>\n",
              "      <td>3.904257</td>\n",
              "    </tr>\n",
              "    <tr>\n",
              "      <th>5</th>\n",
              "      <td>30.092980</td>\n",
              "      <td>30.001910</td>\n",
              "      <td>F</td>\n",
              "      <td>4.008832</td>\n",
              "      <td>3.898088</td>\n",
              "    </tr>\n",
              "    <tr>\n",
              "      <th>6</th>\n",
              "      <td>30.107753</td>\n",
              "      <td>30.001502</td>\n",
              "      <td>G</td>\n",
              "      <td>4.013410</td>\n",
              "      <td>3.881486</td>\n",
              "    </tr>\n",
              "    <tr>\n",
              "      <th>7</th>\n",
              "      <td>30.103797</td>\n",
              "      <td>30.006164</td>\n",
              "      <td>H</td>\n",
              "      <td>3.994697</td>\n",
              "      <td>3.879631</td>\n",
              "    </tr>\n",
              "    <tr>\n",
              "      <th>8</th>\n",
              "      <td>30.101589</td>\n",
              "      <td>30.007950</td>\n",
              "      <td>I</td>\n",
              "      <td>4.013145</td>\n",
              "      <td>3.906453</td>\n",
              "    </tr>\n",
              "    <tr>\n",
              "      <th>9</th>\n",
              "      <td>30.084902</td>\n",
              "      <td>30.019612</td>\n",
              "      <td>J</td>\n",
              "      <td>4.011839</td>\n",
              "      <td>3.905207</td>\n",
              "    </tr>\n",
              "    <tr>\n",
              "      <th>10</th>\n",
              "      <td>30.077321</td>\n",
              "      <td>30.006371</td>\n",
              "      <td>K</td>\n",
              "      <td>3.987651</td>\n",
              "      <td>3.878025</td>\n",
              "    </tr>\n",
              "    <tr>\n",
              "      <th>11</th>\n",
              "      <td>30.103668</td>\n",
              "      <td>30.011245</td>\n",
              "      <td>L</td>\n",
              "      <td>4.005439</td>\n",
              "      <td>3.885159</td>\n",
              "    </tr>\n",
              "    <tr>\n",
              "      <th>12</th>\n",
              "      <td>30.077804</td>\n",
              "      <td>29.982616</td>\n",
              "      <td>M</td>\n",
              "      <td>4.000336</td>\n",
              "      <td>3.905813</td>\n",
              "    </tr>\n",
              "    <tr>\n",
              "      <th>13</th>\n",
              "      <td>30.080428</td>\n",
              "      <td>30.005372</td>\n",
              "      <td>N</td>\n",
              "      <td>3.993623</td>\n",
              "      <td>3.905487</td>\n",
              "    </tr>\n",
              "    <tr>\n",
              "      <th>14</th>\n",
              "      <td>30.109188</td>\n",
              "      <td>30.004687</td>\n",
              "      <td>O</td>\n",
              "      <td>3.987985</td>\n",
              "      <td>3.889207</td>\n",
              "    </tr>\n",
              "  </tbody>\n",
              "</table>\n",
              "</div>"
            ],
            "text/plain": [
              "          Pre       Post Associate  Beforecoaching  Aftercoaching\n",
              "0   30.105925  30.007614         A        3.999752       3.908891\n",
              "1   30.107895  29.991830         B        4.006046       3.894249\n",
              "2   30.119569  29.994598         C        3.999894       3.892256\n",
              "3   30.096333  30.023697         D        3.974033       3.893144\n",
              "4   30.092991  30.003774         E        4.005389       3.904257\n",
              "5   30.092980  30.001910         F        4.008832       3.898088\n",
              "6   30.107753  30.001502         G        4.013410       3.881486\n",
              "7   30.103797  30.006164         H        3.994697       3.879631\n",
              "8   30.101589  30.007950         I        4.013145       3.906453\n",
              "9   30.084902  30.019612         J        4.011839       3.905207\n",
              "10  30.077321  30.006371         K        3.987651       3.878025\n",
              "11  30.103668  30.011245         L        4.005439       3.885159\n",
              "12  30.077804  29.982616         M        4.000336       3.905813\n",
              "13  30.080428  30.005372         N        3.993623       3.905487\n",
              "14  30.109188  30.004687         O        3.987985       3.889207"
            ]
          },
          "metadata": {
            "tags": []
          },
          "execution_count": 7
        }
      ]
    },
    {
      "cell_type": "markdown",
      "metadata": {
        "id": "TymTjRIcTAN8",
        "colab_type": "text"
      },
      "source": [
        "## Test t para duas amostras independentes\n",
        "\n",
        "- A equipe de tecnologia introduziu num processo, uma nova automação. O tempo de ciclo foi coletado antes e depois da automação. Eles necessitam avaliar se estatisticamente houve melhoria.\n",
        "- This is a two-sided test for the null hypothesis that 2 independent samples\n",
        "have identical average (expected) values. This test assumes that the\n",
        "populations have identical variances by default\n",
        "- H0: Pre = Post\n",
        "- Ha: Pre != Post\n",
        "- Alpha = 0.05\n",
        "- Regra de decisão:\n",
        "    - Se **valor_p < 0.05** = **Rejeitar H0**\n",
        "    - Se **valor_p >= 0.05** = **Não rejeitar H0**"
      ]
    },
    {
      "cell_type": "code",
      "metadata": {
        "id": "o4Q5txkmTAN9",
        "colab_type": "code",
        "colab": {
          "base_uri": "https://localhost:8080/",
          "height": 514
        },
        "outputId": "1aef7555-641f-45bd-ec17-9c3fa835c6cd"
      },
      "source": [
        "TWOTDT=TDT[['Pre', 'Post']]\n",
        "TWOTDT"
      ],
      "execution_count": 8,
      "outputs": [
        {
          "output_type": "execute_result",
          "data": {
            "text/html": [
              "<div>\n",
              "<style scoped>\n",
              "    .dataframe tbody tr th:only-of-type {\n",
              "        vertical-align: middle;\n",
              "    }\n",
              "\n",
              "    .dataframe tbody tr th {\n",
              "        vertical-align: top;\n",
              "    }\n",
              "\n",
              "    .dataframe thead th {\n",
              "        text-align: right;\n",
              "    }\n",
              "</style>\n",
              "<table border=\"1\" class=\"dataframe\">\n",
              "  <thead>\n",
              "    <tr style=\"text-align: right;\">\n",
              "      <th></th>\n",
              "      <th>Pre</th>\n",
              "      <th>Post</th>\n",
              "    </tr>\n",
              "  </thead>\n",
              "  <tbody>\n",
              "    <tr>\n",
              "      <th>0</th>\n",
              "      <td>30.105925</td>\n",
              "      <td>30.007614</td>\n",
              "    </tr>\n",
              "    <tr>\n",
              "      <th>1</th>\n",
              "      <td>30.107895</td>\n",
              "      <td>29.991830</td>\n",
              "    </tr>\n",
              "    <tr>\n",
              "      <th>2</th>\n",
              "      <td>30.119569</td>\n",
              "      <td>29.994598</td>\n",
              "    </tr>\n",
              "    <tr>\n",
              "      <th>3</th>\n",
              "      <td>30.096333</td>\n",
              "      <td>30.023697</td>\n",
              "    </tr>\n",
              "    <tr>\n",
              "      <th>4</th>\n",
              "      <td>30.092991</td>\n",
              "      <td>30.003774</td>\n",
              "    </tr>\n",
              "    <tr>\n",
              "      <th>5</th>\n",
              "      <td>30.092980</td>\n",
              "      <td>30.001910</td>\n",
              "    </tr>\n",
              "    <tr>\n",
              "      <th>6</th>\n",
              "      <td>30.107753</td>\n",
              "      <td>30.001502</td>\n",
              "    </tr>\n",
              "    <tr>\n",
              "      <th>7</th>\n",
              "      <td>30.103797</td>\n",
              "      <td>30.006164</td>\n",
              "    </tr>\n",
              "    <tr>\n",
              "      <th>8</th>\n",
              "      <td>30.101589</td>\n",
              "      <td>30.007950</td>\n",
              "    </tr>\n",
              "    <tr>\n",
              "      <th>9</th>\n",
              "      <td>30.084902</td>\n",
              "      <td>30.019612</td>\n",
              "    </tr>\n",
              "    <tr>\n",
              "      <th>10</th>\n",
              "      <td>30.077321</td>\n",
              "      <td>30.006371</td>\n",
              "    </tr>\n",
              "    <tr>\n",
              "      <th>11</th>\n",
              "      <td>30.103668</td>\n",
              "      <td>30.011245</td>\n",
              "    </tr>\n",
              "    <tr>\n",
              "      <th>12</th>\n",
              "      <td>30.077804</td>\n",
              "      <td>29.982616</td>\n",
              "    </tr>\n",
              "    <tr>\n",
              "      <th>13</th>\n",
              "      <td>30.080428</td>\n",
              "      <td>30.005372</td>\n",
              "    </tr>\n",
              "    <tr>\n",
              "      <th>14</th>\n",
              "      <td>30.109188</td>\n",
              "      <td>30.004687</td>\n",
              "    </tr>\n",
              "  </tbody>\n",
              "</table>\n",
              "</div>"
            ],
            "text/plain": [
              "          Pre       Post\n",
              "0   30.105925  30.007614\n",
              "1   30.107895  29.991830\n",
              "2   30.119569  29.994598\n",
              "3   30.096333  30.023697\n",
              "4   30.092991  30.003774\n",
              "5   30.092980  30.001910\n",
              "6   30.107753  30.001502\n",
              "7   30.103797  30.006164\n",
              "8   30.101589  30.007950\n",
              "9   30.084902  30.019612\n",
              "10  30.077321  30.006371\n",
              "11  30.103668  30.011245\n",
              "12  30.077804  29.982616\n",
              "13  30.080428  30.005372\n",
              "14  30.109188  30.004687"
            ]
          },
          "metadata": {
            "tags": []
          },
          "execution_count": 8
        }
      ]
    },
    {
      "cell_type": "markdown",
      "metadata": {
        "id": "XXlFNiAyTAOE",
        "colab_type": "text"
      },
      "source": [
        "### Testando a normalidade e variância das amostras\n",
        "- As amostras devem ter distribuição normal e ter variâncias similares"
      ]
    },
    {
      "cell_type": "code",
      "metadata": {
        "id": "8igpjGunTAOF",
        "colab_type": "code",
        "colab": {
          "base_uri": "https://localhost:8080/",
          "height": 68
        },
        "outputId": "379b87e2-ec81-4d7f-8ed3-bdf0600313fb"
      },
      "source": [
        "stats.normaltest(TWOTDT.Pre).pvalue, stats.normaltest(TWOTDT.Post).pvalue"
      ],
      "execution_count": 9,
      "outputs": [
        {
          "output_type": "stream",
          "text": [
            "/usr/local/lib/python3.6/dist-packages/scipy/stats/stats.py:1535: UserWarning: kurtosistest only valid for n>=20 ... continuing anyway, n=15\n",
            "  \"anyway, n=%i\" % int(n))\n"
          ],
          "name": "stderr"
        },
        {
          "output_type": "execute_result",
          "data": {
            "text/plain": [
              "(0.6531705824168154, 0.5100222307903698)"
            ]
          },
          "metadata": {
            "tags": []
          },
          "execution_count": 9
        }
      ]
    },
    {
      "cell_type": "markdown",
      "metadata": {
        "id": "Ydk7-47RTAOM",
        "colab_type": "text"
      },
      "source": [
        "H0: a amostra apresenta distribuição normal. Como valor_p > 0.05, não se pode rejeitar H0, então, as amostras apresentam distribuição normal... Podemos seguir com o teste."
      ]
    },
    {
      "cell_type": "code",
      "metadata": {
        "id": "At2tYL1HTAOO",
        "colab_type": "code",
        "colab": {
          "base_uri": "https://localhost:8080/",
          "height": 34
        },
        "outputId": "851ab29a-7796-4397-f826-aa317f52341e"
      },
      "source": [
        "levene(TWOTDT.Pre, TWOTDT.Post)"
      ],
      "execution_count": 10,
      "outputs": [
        {
          "output_type": "execute_result",
          "data": {
            "text/plain": [
              "LeveneResult(statistic=1.5738976177624129, pvalue=0.22001358733907092)"
            ]
          },
          "metadata": {
            "tags": []
          },
          "execution_count": 10
        }
      ]
    },
    {
      "cell_type": "markdown",
      "metadata": {
        "id": "OZhhSW-4TAOV",
        "colab_type": "text"
      },
      "source": [
        "The Levene test tests the null hypothesis that all input samples are from populations with equal variances.\n",
        "- H0: as amostras apresentam iguais variâncias, como o valor-p foi maior que 0.05, então pode-se considerar que as variâncias são similares. Podemos seguir com o teste."
      ]
    },
    {
      "cell_type": "markdown",
      "metadata": {
        "id": "I9Thq6AxTAOW",
        "colab_type": "text"
      },
      "source": [
        "### Um boxplot e o Teste t propriamente dito"
      ]
    },
    {
      "cell_type": "code",
      "metadata": {
        "id": "D0EuNBYaTAOY",
        "colab_type": "code",
        "colab": {
          "base_uri": "https://localhost:8080/",
          "height": 302
        },
        "outputId": "5e583841-392b-4f05-a0db-40afac98228b"
      },
      "source": [
        "sns.boxplot(x='variable', y='value', data=pd.melt(TWOTDT), width=0.3)"
      ],
      "execution_count": 11,
      "outputs": [
        {
          "output_type": "execute_result",
          "data": {
            "text/plain": [
              "<matplotlib.axes._subplots.AxesSubplot at 0x7f8afac62208>"
            ]
          },
          "metadata": {
            "tags": []
          },
          "execution_count": 11
        },
        {
          "output_type": "display_data",
          "data": {
            "image/png": "[encoded data removed]",
            "text/plain": [
              "<Figure size 432x288 with 1 Axes>"
            ]
          },
          "metadata": {
            "tags": [],
            "needs_background": "light"
          }
        }
      ]
    },
    {
      "cell_type": "code",
      "metadata": {
        "id": "HV7qpRKjTAOi",
        "colab_type": "code",
        "colab": {
          "base_uri": "https://localhost:8080/",
          "height": 34
        },
        "outputId": "70f69d77-cf64-40d8-a986-a161bcb385a6"
      },
      "source": [
        "t_statistics, p_value = ttest_ind(TWOTDT.Pre, TWOTDT.Post)\n",
        "t_statistics, p_value"
      ],
      "execution_count": 12,
      "outputs": [
        {
          "output_type": "execute_result",
          "data": {
            "text/plain": [
              "(22.085107571721483, 2.963586474101535e-19)"
            ]
          },
          "metadata": {
            "tags": []
          },
          "execution_count": 12
        }
      ]
    },
    {
      "cell_type": "markdown",
      "metadata": {
        "id": "eoZ2nLZ3TAOr",
        "colab_type": "text"
      },
      "source": [
        "- como valor_p < 0.05, H0 deve ser rejeitada, portanto as amostras estatisticamente apresentam médias diferentes "
      ]
    },
    {
      "cell_type": "markdown",
      "metadata": {
        "id": "GaZjrK5hTAOs",
        "colab_type": "text"
      },
      "source": [
        "# Teste t para duas amostras pareadas\n",
        "\n",
        "## Cenário\n",
        "- Um conjunto de funcionários cuja performance não é boa, será submetido a um programa especializado de coach 1-to-1, por 3 meses. Os gerentes necessitam saber se o o programa foi efetivo. Foram coletados dados diários de média de defeito para todos os funcionários (pré e pós programa).\n",
        "- This is a two-sided test for the null hypothesis that 2 related or repeated samples have identical average (expected) values.\n",
        "- H0: média idêntica\n",
        "- Ha: média diferente\n",
        "- **Regra de decisão:**\n",
        "    - Se valor-p < 0.05: Rejeito H0;\n",
        "    - Se valor-p >= 0.05: Não devo rejeitar H0, aceitando que as médias são idênticas."
      ]
    },
    {
      "cell_type": "code",
      "metadata": {
        "id": "G-ebn_fhTAOu",
        "colab_type": "code",
        "colab": {
          "base_uri": "https://localhost:8080/",
          "height": 514
        },
        "outputId": "2c20badd-a956-407a-8a23-978fffaea9d6"
      },
      "source": [
        "PAIRTDT=TDT[['Beforecoaching','Aftercoaching']]\n",
        "PAIRTDT"
      ],
      "execution_count": 13,
      "outputs": [
        {
          "output_type": "execute_result",
          "data": {
            "text/html": [
              "<div>\n",
              "<style scoped>\n",
              "    .dataframe tbody tr th:only-of-type {\n",
              "        vertical-align: middle;\n",
              "    }\n",
              "\n",
              "    .dataframe tbody tr th {\n",
              "        vertical-align: top;\n",
              "    }\n",
              "\n",
              "    .dataframe thead th {\n",
              "        text-align: right;\n",
              "    }\n",
              "</style>\n",
              "<table border=\"1\" class=\"dataframe\">\n",
              "  <thead>\n",
              "    <tr style=\"text-align: right;\">\n",
              "      <th></th>\n",
              "      <th>Beforecoaching</th>\n",
              "      <th>Aftercoaching</th>\n",
              "    </tr>\n",
              "  </thead>\n",
              "  <tbody>\n",
              "    <tr>\n",
              "      <th>0</th>\n",
              "      <td>3.999752</td>\n",
              "      <td>3.908891</td>\n",
              "    </tr>\n",
              "    <tr>\n",
              "      <th>1</th>\n",
              "      <td>4.006046</td>\n",
              "      <td>3.894249</td>\n",
              "    </tr>\n",
              "    <tr>\n",
              "      <th>2</th>\n",
              "      <td>3.999894</td>\n",
              "      <td>3.892256</td>\n",
              "    </tr>\n",
              "    <tr>\n",
              "      <th>3</th>\n",
              "      <td>3.974033</td>\n",
              "      <td>3.893144</td>\n",
              "    </tr>\n",
              "    <tr>\n",
              "      <th>4</th>\n",
              "      <td>4.005389</td>\n",
              "      <td>3.904257</td>\n",
              "    </tr>\n",
              "    <tr>\n",
              "      <th>5</th>\n",
              "      <td>4.008832</td>\n",
              "      <td>3.898088</td>\n",
              "    </tr>\n",
              "    <tr>\n",
              "      <th>6</th>\n",
              "      <td>4.013410</td>\n",
              "      <td>3.881486</td>\n",
              "    </tr>\n",
              "    <tr>\n",
              "      <th>7</th>\n",
              "      <td>3.994697</td>\n",
              "      <td>3.879631</td>\n",
              "    </tr>\n",
              "    <tr>\n",
              "      <th>8</th>\n",
              "      <td>4.013145</td>\n",
              "      <td>3.906453</td>\n",
              "    </tr>\n",
              "    <tr>\n",
              "      <th>9</th>\n",
              "      <td>4.011839</td>\n",
              "      <td>3.905207</td>\n",
              "    </tr>\n",
              "    <tr>\n",
              "      <th>10</th>\n",
              "      <td>3.987651</td>\n",
              "      <td>3.878025</td>\n",
              "    </tr>\n",
              "    <tr>\n",
              "      <th>11</th>\n",
              "      <td>4.005439</td>\n",
              "      <td>3.885159</td>\n",
              "    </tr>\n",
              "    <tr>\n",
              "      <th>12</th>\n",
              "      <td>4.000336</td>\n",
              "      <td>3.905813</td>\n",
              "    </tr>\n",
              "    <tr>\n",
              "      <th>13</th>\n",
              "      <td>3.993623</td>\n",
              "      <td>3.905487</td>\n",
              "    </tr>\n",
              "    <tr>\n",
              "      <th>14</th>\n",
              "      <td>3.987985</td>\n",
              "      <td>3.889207</td>\n",
              "    </tr>\n",
              "  </tbody>\n",
              "</table>\n",
              "</div>"
            ],
            "text/plain": [
              "    Beforecoaching  Aftercoaching\n",
              "0         3.999752       3.908891\n",
              "1         4.006046       3.894249\n",
              "2         3.999894       3.892256\n",
              "3         3.974033       3.893144\n",
              "4         4.005389       3.904257\n",
              "5         4.008832       3.898088\n",
              "6         4.013410       3.881486\n",
              "7         3.994697       3.879631\n",
              "8         4.013145       3.906453\n",
              "9         4.011839       3.905207\n",
              "10        3.987651       3.878025\n",
              "11        4.005439       3.885159\n",
              "12        4.000336       3.905813\n",
              "13        3.993623       3.905487\n",
              "14        3.987985       3.889207"
            ]
          },
          "metadata": {
            "tags": []
          },
          "execution_count": 13
        }
      ]
    },
    {
      "cell_type": "code",
      "metadata": {
        "id": "3Y5NOi0OTAO2",
        "colab_type": "code",
        "colab": {
          "base_uri": "https://localhost:8080/",
          "height": 297
        },
        "outputId": "c7f40859-ddae-4313-aaac-8b8fb44e3064"
      },
      "source": [
        "PAIRTDT.describe()"
      ],
      "execution_count": 14,
      "outputs": [
        {
          "output_type": "execute_result",
          "data": {
            "text/html": [
              "<div>\n",
              "<style scoped>\n",
              "    .dataframe tbody tr th:only-of-type {\n",
              "        vertical-align: middle;\n",
              "    }\n",
              "\n",
              "    .dataframe tbody tr th {\n",
              "        vertical-align: top;\n",
              "    }\n",
              "\n",
              "    .dataframe thead th {\n",
              "        text-align: right;\n",
              "    }\n",
              "</style>\n",
              "<table border=\"1\" class=\"dataframe\">\n",
              "  <thead>\n",
              "    <tr style=\"text-align: right;\">\n",
              "      <th></th>\n",
              "      <th>Beforecoaching</th>\n",
              "      <th>Aftercoaching</th>\n",
              "    </tr>\n",
              "  </thead>\n",
              "  <tbody>\n",
              "    <tr>\n",
              "      <th>count</th>\n",
              "      <td>15.000000</td>\n",
              "      <td>15.000000</td>\n",
              "    </tr>\n",
              "    <tr>\n",
              "      <th>mean</th>\n",
              "      <td>4.000138</td>\n",
              "      <td>3.895157</td>\n",
              "    </tr>\n",
              "    <tr>\n",
              "      <th>std</th>\n",
              "      <td>0.011038</td>\n",
              "      <td>0.010687</td>\n",
              "    </tr>\n",
              "    <tr>\n",
              "      <th>min</th>\n",
              "      <td>3.974033</td>\n",
              "      <td>3.878025</td>\n",
              "    </tr>\n",
              "    <tr>\n",
              "      <th>25%</th>\n",
              "      <td>3.994160</td>\n",
              "      <td>3.887183</td>\n",
              "    </tr>\n",
              "    <tr>\n",
              "      <th>50%</th>\n",
              "      <td>4.000336</td>\n",
              "      <td>3.894249</td>\n",
              "    </tr>\n",
              "    <tr>\n",
              "      <th>75%</th>\n",
              "      <td>4.007439</td>\n",
              "      <td>3.905347</td>\n",
              "    </tr>\n",
              "    <tr>\n",
              "      <th>max</th>\n",
              "      <td>4.013410</td>\n",
              "      <td>3.908891</td>\n",
              "    </tr>\n",
              "  </tbody>\n",
              "</table>\n",
              "</div>"
            ],
            "text/plain": [
              "       Beforecoaching  Aftercoaching\n",
              "count       15.000000      15.000000\n",
              "mean         4.000138       3.895157\n",
              "std          0.011038       0.010687\n",
              "min          3.974033       3.878025\n",
              "25%          3.994160       3.887183\n",
              "50%          4.000336       3.894249\n",
              "75%          4.007439       3.905347\n",
              "max          4.013410       3.908891"
            ]
          },
          "metadata": {
            "tags": []
          },
          "execution_count": 14
        }
      ]
    },
    {
      "cell_type": "code",
      "metadata": {
        "id": "7S6IZ7F0TAO7",
        "colab_type": "code",
        "colab": {
          "base_uri": "https://localhost:8080/",
          "height": 306
        },
        "outputId": "71367c2e-aca1-436b-9451-d2d38e5b0257"
      },
      "source": [
        "sns.boxplot(x='variable', y='value', data=pd.melt(PAIRTDT), width=0.3)"
      ],
      "execution_count": 15,
      "outputs": [
        {
          "output_type": "execute_result",
          "data": {
            "text/plain": [
              "<matplotlib.axes._subplots.AxesSubplot at 0x7f8afac1ac18>"
            ]
          },
          "metadata": {
            "tags": []
          },
          "execution_count": 15
        },
        {
          "output_type": "display_data",
          "data": {
            "image/png": "[encoded data removed]",
            "text/plain": [
              "<Figure size 432x288 with 1 Axes>"
            ]
          },
          "metadata": {
            "tags": [],
            "needs_background": "light"
          }
        }
      ]
    },
    {
      "cell_type": "code",
      "metadata": {
        "id": "RS4bXaZcTAO_",
        "colab_type": "code",
        "colab": {
          "base_uri": "https://localhost:8080/",
          "height": 68
        },
        "outputId": "41ef2ba0-28cb-44c4-900b-ff00f00fcf2f"
      },
      "source": [
        "stats.normaltest(PAIRTDT.Beforecoaching).pvalue, stats.normaltest(PAIRTDT.Aftercoaching).pvalue"
      ],
      "execution_count": 16,
      "outputs": [
        {
          "output_type": "stream",
          "text": [
            "/usr/local/lib/python3.6/dist-packages/scipy/stats/stats.py:1535: UserWarning: kurtosistest only valid for n>=20 ... continuing anyway, n=15\n",
            "  \"anyway, n=%i\" % int(n))\n"
          ],
          "name": "stderr"
        },
        {
          "output_type": "execute_result",
          "data": {
            "text/plain": [
              "(0.21332517297557374, 0.19734137796686999)"
            ]
          },
          "metadata": {
            "tags": []
          },
          "execution_count": 16
        }
      ]
    },
    {
      "cell_type": "code",
      "metadata": {
        "id": "QSvCO6iHTAPG",
        "colab_type": "code",
        "colab": {}
      },
      "source": [
        "# valores-p maiores que 0.05, portanto aceito H0 de que a amostra vem de uma distribuição normal."
      ],
      "execution_count": 17,
      "outputs": []
    },
    {
      "cell_type": "code",
      "metadata": {
        "id": "9H3LB_HSTAPL",
        "colab_type": "code",
        "colab": {
          "base_uri": "https://localhost:8080/",
          "height": 34
        },
        "outputId": "a7ba076a-4bcb-4c5e-e48f-d7530f22acaf"
      },
      "source": [
        "stats.ttest_rel(PAIRTDT.Beforecoaching, PAIRTDT.Aftercoaching)"
      ],
      "execution_count": 18,
      "outputs": [
        {
          "output_type": "execute_result",
          "data": {
            "text/plain": [
              "Ttest_relResult(statistic=31.04193826919751, pvalue=2.6039212090443113e-14)"
            ]
          },
          "metadata": {
            "tags": []
          },
          "execution_count": 18
        }
      ]
    },
    {
      "cell_type": "code",
      "metadata": {
        "id": "PZIBVeBGTAPS",
        "colab_type": "code",
        "colab": {}
      },
      "source": [
        "# valor-p < 0.05, aceito H0, ou seja, as médias não são idênticas, demostrando o sucesso do programa de coaching."
      ],
      "execution_count": 19,
      "outputs": []
    }
  ]
}